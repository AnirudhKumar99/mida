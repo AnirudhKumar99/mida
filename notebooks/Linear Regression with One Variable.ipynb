{
 "cells": [
  {
   "cell_type": "markdown",
   "metadata": {},
   "source": [
    "# Linear Regression with One Variable\n"
   ]
  },
  {
   "cell_type": "code",
   "execution_count": 1,
   "metadata": {},
   "outputs": [],
   "source": [
    "import os\n",
    "import tensorflow as tf\n",
    "import numpy as np\n",
    "import matplotlib.pyplot as plt"
   ]
  },
  {
   "cell_type": "code",
   "execution_count": 2,
   "metadata": {},
   "outputs": [],
   "source": [
    "# Hyper parameters\n",
    "learning_rate = 1\n",
    "training_epochs = 400\n",
    "display_step = 20"
   ]
  },
  {
   "cell_type": "markdown",
   "metadata": {},
   "source": [
    "## Dataset\n",
    "\n",
    "Our dataset a wire resistance table from a chip for 20nm process node. \n",
    "It is a 2D array of wire-length, wire-width, temperature and wire-resistance.\n",
    "We'll use wire length and wire resistance as our dataset for linear regression example.\n",
    "\n",
    "\n",
    "|Wire-length | Wire-width  | Temperature | Resistance\n",
    "|------------|-------------|-------------|-------------\n",
    "|(meters)    | (meters)    | (degree C)  | (Ohm)\n",
    "|3.806e-06   | 1.088e-07   | 79.0494     | 52.897 \n",
    "|4.307e-06   | 7.517e-08   | 56.2845     | 83.904 \n",
    "|4.158e-06   | 1.135e-07   | 27.0643     | 52.517 \n",
    "|5.416e-06   | 8.939e-08   | 42.0784     | 85.435 \n",
    "|6.274e-06   | 9.090e-08   | 55.5829     | 110.85 \n",
    "|8.215e-06   | 1.199e-07   | 97.4032     | 119.45\n",
    "|6.437e-06   | 6.653e-08   | 75.0783     | 148.11 \n",
    "|2.823e-06   | 1.028e-07   | 2.48765     | 36.138 \n",
    "|2.015e-06   | 1.293e-07   | 63.5732     | 22.955 \n",
    "|6.346e-06   | 6.420e-08   | 77.0031     | 145.52 \n",
    "|5.008e-06   | 1.047e-07   | 105.656     | 79.024 \n",
    "\n"
   ]
  },
  {
   "cell_type": "code",
   "execution_count": 3,
   "metadata": {},
   "outputs": [],
   "source": [
    "#Load dataset\n",
    "datafile = os.path.join('..','data','res.tbl.gz')\n",
    "dataset = np.loadtxt(datafile, dtype=np.float32, ndmin=2)\n",
    "# reduce the dataset for quick experiments\n",
    "#dataset = dataset[0:100,:]"
   ]
  },
  {
   "cell_type": "markdown",
   "metadata": {},
   "source": [
    "## Normalization\n",
    "Since our length values are very small (in microns) and resistance values range from tens to hundreds, it is **very important** normalize the dataset right after loading."
   ]
  },
  {
   "cell_type": "code",
   "execution_count": 4,
   "metadata": {},
   "outputs": [],
   "source": [
    "# normalize the dataset between 0 and 1.\n",
    "data_min = np.min(dataset, axis=0)\n",
    "data_max = np.max(dataset, axis=0)\n",
    "\n",
    "def normalize(d, min, max):\n",
    "    return (d-min)/(max-min)\n",
    "\n",
    "def denormalize(d, min, max):\n",
    "    return ((max-min)*d) + min\n",
    "\n",
    "dataset = normalize(dataset, data_min, data_max)"
   ]
  },
  {
   "cell_type": "markdown",
   "metadata": {},
   "source": [
    "## Divide the dataset\n",
    "into training dataset and validation dataset"
   ]
  },
  {
   "cell_type": "code",
   "execution_count": 5,
   "metadata": {},
   "outputs": [],
   "source": [
    "# training dataset percentage is 80%\n",
    "def divide_dataset(dataset):\n",
    "    train_pct = 0.8; \n",
    "    # divide dataset into training and validation set\n",
    "    train_index = int(dataset.shape[0]*train_pct)\n",
    "    t_X = dataset[:train_index,0]\n",
    "    t_Y = dataset[:train_index,3]\n",
    "    v_X = dataset[train_index:,0]\n",
    "    v_Y = dataset[train_index:,3]\n",
    "    \n",
    "    return t_X, t_Y, v_X, v_Y\n",
    "\n",
    "train_X, train_Y, valid_X, valid_Y = divide_dataset(dataset)\n",
    "n_samples = train_X.shape[0]"
   ]
  },
  {
   "cell_type": "markdown",
   "metadata": {},
   "source": [
    "## Declare Graph Variables\n",
    "\n",
    "Place to declare plave holders and variables for compute graph"
   ]
  },
  {
   "cell_type": "code",
   "execution_count": 6,
   "metadata": {},
   "outputs": [],
   "source": [
    "# tf Graph Input\n",
    "X = tf.placeholder(\"float\")\n",
    "Y = tf.placeholder(\"float\")\n",
    "\n",
    "# Set model weights\n",
    "W = tf.Variable(0.5, name=\"weight\")\n",
    "b = tf.Variable(0.0, name=\"bias\")"
   ]
  },
  {
   "cell_type": "markdown",
   "metadata": {},
   "source": [
    "## Compute Graph\n",
    "Construct a linear model"
   ]
  },
  {
   "cell_type": "code",
   "execution_count": 7,
   "metadata": {},
   "outputs": [],
   "source": [
    "predicted = W*X + b"
   ]
  },
  {
   "cell_type": "markdown",
   "metadata": {},
   "source": [
    "## Cost function and Optimizer"
   ]
  },
  {
   "cell_type": "code",
   "execution_count": 8,
   "metadata": {},
   "outputs": [],
   "source": [
    "# Mean squared error\n",
    "cost = tf.reduce_sum((predicted-Y)*(predicted-Y))/(2*n_samples)\n",
    "\n",
    "# Gradient descent\n",
    "optimizer = tf.train.GradientDescentOptimizer(learning_rate).minimize(cost)"
   ]
  },
  {
   "cell_type": "markdown",
   "metadata": {},
   "source": [
    "## Train the Model"
   ]
  },
  {
   "cell_type": "code",
   "execution_count": 9,
   "metadata": {},
   "outputs": [],
   "source": [
    "# Initialize the variables (i.e. assign their default value)\n",
    "init = tf.global_variables_initializer()"
   ]
  },
  {
   "cell_type": "code",
   "execution_count": 10,
   "metadata": {},
   "outputs": [
    {
     "name": "stdout",
     "output_type": "stream",
     "text": [
      "Epoch: 0020 cost= 0.002541965 W= 0.468754 b= -0.0113639\n",
      "Epoch: 0040 cost= 0.002526478 W= 0.452964 b= -0.00373077\n",
      "Epoch: 0060 cost= 0.002517623 W= 0.441025 b= 0.00204031\n",
      "Epoch: 0080 cost= 0.002512566 W= 0.431998 b= 0.00640286\n",
      "Epoch: 0100 cost= 0.002509677 W= 0.425187 b= 0.00969707\n",
      "Epoch: 0120 cost= 0.002508026 W= 0.420031 b= 0.0121882\n",
      "Epoch: 0140 cost= 0.002507078 W= 0.41613 b= 0.0140746\n",
      "Epoch: 0160 cost= 0.002506538 W= 0.413187 b= 0.0154966\n",
      "Epoch: 0180 cost= 0.002506229 W= 0.410947 b= 0.0165793\n",
      "Epoch: 0200 cost= 0.002506050 W= 0.409257 b= 0.0173965\n",
      "Epoch: 0220 cost= 0.002505952 W= 0.408008 b= 0.0180008\n",
      "Epoch: 0240 cost= 0.002505894 W= 0.407046 b= 0.0184654\n",
      "Epoch: 0260 cost= 0.002505861 W= 0.406328 b= 0.0188125\n",
      "Epoch: 0280 cost= 0.002505844 W= 0.405774 b= 0.0190802\n",
      "Epoch: 0300 cost= 0.002505832 W= 0.405351 b= 0.0192843\n",
      "Epoch: 0320 cost= 0.002505825 W= 0.405028 b= 0.0194407\n",
      "Epoch: 0340 cost= 0.002505823 W= 0.404796 b= 0.019553\n",
      "Epoch: 0360 cost= 0.002505821 W= 0.404628 b= 0.0196344\n",
      "Epoch: 0380 cost= 0.002505818 W= 0.404505 b= 0.0196944\n",
      "Epoch: 0400 cost= 0.002505817 W= 0.40441 b= 0.0197401\n",
      "Optimization Finished!\n",
      "Training cost (mean sq. error) = 0.00250582 W= 0.40441 b= 0.0197401\n",
      "Validation cost (mean sq. error) = 0.000720103 \n",
      "\n"
     ]
    },
    {
     "data": {
      "image/png": "[encoded data removed]",
      "text/plain": [
       "<matplotlib.figure.Figure at 0x1e30cf60278>"
      ]
     },
     "metadata": {},
     "output_type": "display_data"
    }
   ],
   "source": [
    "# Start training\n",
    "with tf.Session() as sess:\n",
    "    sess.run(init)\n",
    "\n",
    "    # Fit all training data\n",
    "    for epoch in range(training_epochs):\n",
    "        for (x, y) in zip(train_X, train_Y):\n",
    "            sess.run(optimizer, feed_dict={X: x, Y: y})\n",
    "\n",
    "        #Display logs per epoch step\n",
    "        if (epoch+1) % display_step == 0:\n",
    "            c = sess.run(cost, feed_dict={X: train_X, Y:train_Y})\n",
    "            print (\"Epoch:\", '%04d' % (epoch+1), \"cost=\", \"{:.9f}\".format(c), \\\n",
    "                \"W=\", sess.run(W), \"b=\", sess.run(b))\n",
    "\n",
    "    print( \"Optimization Finished!\" )\n",
    "    \n",
    "    # Find cost on training and validation dataset.\n",
    "    training_cost = sess.run(cost, feed_dict={X: train_X, Y: train_Y})\n",
    "    print (\"Training cost (mean sq. error) =\",training_cost, \"W=\", sess.run(W), \"b=\", sess.run(b))\n",
    "    validation_cost = sess.run(cost, feed_dict={X: valid_X, Y: valid_Y})\n",
    "    print (\"Validation cost (mean sq. error) =\",validation_cost, '\\n')\n",
    "\n",
    "\n",
    "    #Graphic display\n",
    "    plt.plot(train_X, train_Y, 'ro', label='Training data')\n",
    "    plt.plot(valid_X, valid_Y, 'bo', label='Validation data')\n",
    "    plt.plot(train_X, sess.run(W) * train_X + sess.run(b), label='Training Fitted line')\n",
    "    plt.legend()\n",
    "    plt.show()"
   ]
  }
 ],
 "metadata": {
  "kernelspec": {
   "display_name": "Python 3",
   "language": "python",
   "name": "python3"
  },
  "language_info": {
   "codemirror_mode": {
    "name": "ipython",
    "version": 3
   },
   "file_extension": ".py",
   "mimetype": "text/x-python",
   "name": "python",
   "nbconvert_exporter": "python",
   "pygments_lexer": "ipython3",
   "version": "3.6.3"
  }
 },
 "nbformat": 4,
 "nbformat_minor": 2
}
